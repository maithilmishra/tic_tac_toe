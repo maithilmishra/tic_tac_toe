{
 "cells": [
  {
   "cell_type": "code",
   "execution_count": 1,
   "id": "8691f1b2-0158-4064-8983-652f705ac1e0",
   "metadata": {},
   "outputs": [
    {
     "name": "stdin",
     "output_type": "stream",
     "text": [
      "Do you want to be X or O?  x\n"
     ]
    },
    {
     "name": "stdout",
     "output_type": "stream",
     "text": [
      "Welcome to Tic Tac Toe!\n",
      "Here's the board layout:\n",
      "1 | 2 | 3\n",
      "---------\n",
      "4 | 5 | 6\n",
      "---------\n",
      "7 | 8 | 9\n",
      "---------\n",
      "  |   |  \n",
      "---------\n",
      "  |   |  \n",
      "---------\n",
      "  |   |  \n",
      "---------\n"
     ]
    },
    {
     "name": "stdin",
     "output_type": "stream",
     "text": [
      "X, enter your move (1-9):  7\n"
     ]
    },
    {
     "name": "stdout",
     "output_type": "stream",
     "text": [
      "  |   |  \n",
      "---------\n",
      "  |   |  \n",
      "---------\n",
      "X |   |  \n",
      "---------\n",
      "O is thinking...\n",
      "  | O |  \n",
      "---------\n",
      "  |   |  \n",
      "---------\n",
      "X |   |  \n",
      "---------\n"
     ]
    },
    {
     "name": "stdin",
     "output_type": "stream",
     "text": [
      "X, enter your move (1-9):  8\n"
     ]
    },
    {
     "name": "stdout",
     "output_type": "stream",
     "text": [
      "  | O |  \n",
      "---------\n",
      "  |   |  \n",
      "---------\n",
      "X | X |  \n",
      "---------\n",
      "O is thinking...\n",
      "  | O |  \n",
      "---------\n",
      "  |   |  \n",
      "---------\n",
      "X | X | O\n",
      "---------\n"
     ]
    },
    {
     "name": "stdin",
     "output_type": "stream",
     "text": [
      "X, enter your move (1-9):  1\n"
     ]
    },
    {
     "name": "stdout",
     "output_type": "stream",
     "text": [
      "X | O |  \n",
      "---------\n",
      "  |   |  \n",
      "---------\n",
      "X | X | O\n",
      "---------\n",
      "O is thinking...\n",
      "X | O |  \n",
      "---------\n",
      "O |   |  \n",
      "---------\n",
      "X | X | O\n",
      "---------\n"
     ]
    },
    {
     "name": "stdin",
     "output_type": "stream",
     "text": [
      "X, enter your move (1-9):  5\n"
     ]
    },
    {
     "name": "stdout",
     "output_type": "stream",
     "text": [
      "X | O |  \n",
      "---------\n",
      "O | X |  \n",
      "---------\n",
      "X | X | O\n",
      "---------\n",
      "O is thinking...\n",
      "X | O | O\n",
      "---------\n",
      "O | X |  \n",
      "---------\n",
      "X | X | O\n",
      "---------\n"
     ]
    },
    {
     "name": "stdin",
     "output_type": "stream",
     "text": [
      "X, enter your move (1-9):  1\n"
     ]
    },
    {
     "name": "stdout",
     "output_type": "stream",
     "text": [
      "Cell is already occupied. Try again.\n"
     ]
    },
    {
     "name": "stdin",
     "output_type": "stream",
     "text": [
      "X, enter your move (1-9):  10\n"
     ]
    },
    {
     "name": "stdout",
     "output_type": "stream",
     "text": [
      "Invalid move. Please choose a number between 1 and 9.\n"
     ]
    },
    {
     "name": "stdin",
     "output_type": "stream",
     "text": [
      "X, enter your move (1-9):  gcc\n"
     ]
    },
    {
     "name": "stdout",
     "output_type": "stream",
     "text": [
      "Invalid input. Please enter a number.\n"
     ]
    },
    {
     "name": "stdin",
     "output_type": "stream",
     "text": [
      "X, enter your move (1-9):  6\n"
     ]
    },
    {
     "name": "stdout",
     "output_type": "stream",
     "text": [
      "X | O | O\n",
      "---------\n",
      "O | X | X\n",
      "---------\n",
      "X | X | O\n",
      "---------\n",
      "It's a tie!\n"
     ]
    }
   ],
   "source": [
    "import random\n",
    "\n",
    "def display_board(board):\n",
    "    for row in board:\n",
    "        print(\" | \".join(row))\n",
    "        print(\"-\" * 9)\n",
    "\n",
    "def check_win(board, player):\n",
    "    for row in board:\n",
    "        if all(cell == player for cell in row):\n",
    "            return True\n",
    "    for col in range(3):\n",
    "        if all(board[row][col] == player for row in range(3)):\n",
    "            return True\n",
    "    if all(board[i][i] == player for i in range(3)) or all(board[i][2 - i] == player for i in range(3)):\n",
    "        return True\n",
    "    return False\n",
    "\n",
    "def check_tie(board):\n",
    "    return all(cell != \" \" for row in board for cell in row)\n",
    "\n",
    "def get_move(player, board):\n",
    "    while True:\n",
    "        try:\n",
    "            move = int(input(f\"{player}, enter your move (1-9): \")) - 1\n",
    "            if 0 <= move < 9:\n",
    "                row, col = divmod(move, 3)\n",
    "                if board[row][col] == \" \":\n",
    "                    return row, col\n",
    "                else:\n",
    "                    print(\"Cell is already occupied. Try again.\")\n",
    "            else:\n",
    "                print(\"Invalid move. Please choose a number between 1 and 9.\")\n",
    "        except ValueError:\n",
    "            print(\"Invalid input. Please enter a number.\")\n",
    "\n",
    "def ai_move(board, ai, human):\n",
    "    # Try to win\n",
    "    for row in range(3):\n",
    "        for col in range(3):\n",
    "            if board[row][col] == \" \":\n",
    "                board[row][col] = ai\n",
    "                if check_win(board, ai):\n",
    "                    return row, col\n",
    "                board[row][col] = \" \"  # Undo move\n",
    "\n",
    "    # Block the opponent\n",
    "    for row in range(3):\n",
    "        for col in range(3):\n",
    "            if board[row][col] == \" \":\n",
    "                board[row][col] = human\n",
    "                if check_win(board, human):\n",
    "                    board[row][col] = ai  # Block the win\n",
    "                    return row, col\n",
    "                board[row][col] = \" \"  # Undo move\n",
    "\n",
    "    # Pick a random empty spot\n",
    "    empty_spots = [(r, c) for r in range(3) for c in range(3) if board[r][c] == \" \"]\n",
    "    return random.choice(empty_spots)\n",
    "\n",
    "def main():\n",
    "    board = [[\" \" for _ in range(3)] for _ in range(3)]\n",
    "    human = input(\"Do you want to be X or O? \").upper()\n",
    "    while human not in [\"X\", \"O\"]:\n",
    "        human = input(\"Invalid choice. Please choose X or O: \").upper()\n",
    "    ai = \"O\" if human == \"X\" else \"X\"\n",
    "\n",
    "    print(\"Welcome to Tic Tac Toe!\")\n",
    "    print(\"Here's the board layout:\")\n",
    "    display_board([[str(i + 1) for i in range(j * 3, (j + 1) * 3)] for j in range(3)])\n",
    "\n",
    "    current_player = \"X\"\n",
    "    while True:\n",
    "        display_board(board)\n",
    "\n",
    "        if current_player == human:\n",
    "            row, col = get_move(human, board)\n",
    "        else:\n",
    "            print(f\"{ai} is thinking...\")\n",
    "            row, col = ai_move(board, ai, human)\n",
    "\n",
    "        board[row][col] = current_player\n",
    "\n",
    "        if check_win(board, current_player):\n",
    "            display_board(board)\n",
    "            print(f\"Congratulations {current_player}! You win!\")\n",
    "            break\n",
    "\n",
    "        if check_tie(board):\n",
    "            display_board(board)\n",
    "            print(\"It's a tie!\")\n",
    "            break\n",
    "\n",
    "        current_player = ai if current_player == human else human  # Switch players\n",
    "\n",
    "if __name__ == \"__main__\":\n",
    "    main()\n"
   ]
  },
  {
   "cell_type": "code",
   "execution_count": null,
   "id": "0d5980d0-bda3-466d-84a1-d26c31301e3d",
   "metadata": {},
   "outputs": [],
   "source": []
  }
 ],
 "metadata": {
  "kernelspec": {
   "display_name": "Python 3 (ipykernel)",
   "language": "python",
   "name": "python3"
  },
  "language_info": {
   "codemirror_mode": {
    "name": "ipython",
    "version": 3
   },
   "file_extension": ".py",
   "mimetype": "text/x-python",
   "name": "python",
   "nbconvert_exporter": "python",
   "pygments_lexer": "ipython3",
   "version": "3.11.4"
  }
 },
 "nbformat": 4,
 "nbformat_minor": 5
}
